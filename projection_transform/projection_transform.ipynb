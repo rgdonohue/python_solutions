{
 "cells": [
  {
   "cell_type": "markdown",
   "metadata": {},
   "source": [
    "# Transform custom CRS to WGS84\n",
    "\n",
    "This notebook uses Geopandas to import a Shapefile, transform the CRS from a projected CRS to unprojected WGS84, and write the new files to disk"
   ]
  },
  {
   "cell_type": "code",
   "execution_count": 1,
   "metadata": {},
   "outputs": [],
   "source": [
    "# import required libraries\n",
    "import geopandas as gpd"
   ]
  },
  {
   "cell_type": "code",
   "execution_count": 2,
   "metadata": {},
   "outputs": [],
   "source": [
    "# read the Shapefiles into memory\n",
    "df_stormwater = gpd.read_file('./data/stormwater')"
   ]
  },
  {
   "cell_type": "code",
   "execution_count": 3,
   "metadata": {},
   "outputs": [
    {
     "data": {
      "text/html": [
       "<div>\n",
       "<style scoped>\n",
       "    .dataframe tbody tr th:only-of-type {\n",
       "        vertical-align: middle;\n",
       "    }\n",
       "\n",
       "    .dataframe tbody tr th {\n",
       "        vertical-align: top;\n",
       "    }\n",
       "\n",
       "    .dataframe thead th {\n",
       "        text-align: right;\n",
       "    }\n",
       "</style>\n",
       "<table border=\"1\" class=\"dataframe\">\n",
       "  <thead>\n",
       "    <tr style=\"text-align: right;\">\n",
       "      <th></th>\n",
       "      <th>objectid</th>\n",
       "      <th>id</th>\n",
       "      <th>status</th>\n",
       "      <th>dia</th>\n",
       "      <th>type</th>\n",
       "      <th>box_size</th>\n",
       "      <th>flow_dir</th>\n",
       "      <th>rim_elev</th>\n",
       "      <th>inv_elev</th>\n",
       "      <th>invert</th>\n",
       "      <th>connection</th>\n",
       "      <th>geometry</th>\n",
       "    </tr>\n",
       "  </thead>\n",
       "  <tbody>\n",
       "    <tr>\n",
       "      <th>0</th>\n",
       "      <td>1</td>\n",
       "      <td>SDMH C.08</td>\n",
       "      <td>ASBUILT</td>\n",
       "      <td>4.0</td>\n",
       "      <td>None</td>\n",
       "      <td>None</td>\n",
       "      <td>SW</td>\n",
       "      <td>5643.42</td>\n",
       "      <td>5629.46</td>\n",
       "      <td>13.96</td>\n",
       "      <td>2.0</td>\n",
       "      <td>POINT (3131894.760 1607146.735)</td>\n",
       "    </tr>\n",
       "    <tr>\n",
       "      <th>1</th>\n",
       "      <td>2</td>\n",
       "      <td>SDMH C45</td>\n",
       "      <td>ASBUILT</td>\n",
       "      <td>5.0</td>\n",
       "      <td>None</td>\n",
       "      <td>None</td>\n",
       "      <td>N</td>\n",
       "      <td>5621.11</td>\n",
       "      <td>5610.01</td>\n",
       "      <td>11.10</td>\n",
       "      <td>2.0</td>\n",
       "      <td>POINT (3130748.091 1609263.615)</td>\n",
       "    </tr>\n",
       "    <tr>\n",
       "      <th>2</th>\n",
       "      <td>3</td>\n",
       "      <td>SDMH G44-1</td>\n",
       "      <td>ASBUILT</td>\n",
       "      <td>5.0</td>\n",
       "      <td>None</td>\n",
       "      <td>None</td>\n",
       "      <td>NW</td>\n",
       "      <td>5651.02</td>\n",
       "      <td>5640.99</td>\n",
       "      <td>10.03</td>\n",
       "      <td>3.0</td>\n",
       "      <td>POINT (3129356.405 1607942.718)</td>\n",
       "    </tr>\n",
       "    <tr>\n",
       "      <th>3</th>\n",
       "      <td>4</td>\n",
       "      <td>MH A8</td>\n",
       "      <td>DESIGN</td>\n",
       "      <td>4.0</td>\n",
       "      <td>BOX BASE</td>\n",
       "      <td>86 x 86</td>\n",
       "      <td>NE</td>\n",
       "      <td>5642.91</td>\n",
       "      <td>5630.23</td>\n",
       "      <td>12.68</td>\n",
       "      <td>3.0</td>\n",
       "      <td>POINT (3121457.430 1601359.175)</td>\n",
       "    </tr>\n",
       "    <tr>\n",
       "      <th>4</th>\n",
       "      <td>5</td>\n",
       "      <td>MH A2</td>\n",
       "      <td>DESIGN</td>\n",
       "      <td>4.0</td>\n",
       "      <td>BOX BASE</td>\n",
       "      <td>107 x 107</td>\n",
       "      <td>NE</td>\n",
       "      <td>5613.21</td>\n",
       "      <td>5596.76</td>\n",
       "      <td>16.45</td>\n",
       "      <td>2.0</td>\n",
       "      <td>POINT (3121168.810 1602034.181)</td>\n",
       "    </tr>\n",
       "    <tr>\n",
       "      <th>5</th>\n",
       "      <td>6</td>\n",
       "      <td>SDMH B33</td>\n",
       "      <td>ASBUILT</td>\n",
       "      <td>5.0</td>\n",
       "      <td>None</td>\n",
       "      <td>None</td>\n",
       "      <td>NE</td>\n",
       "      <td>5610.69</td>\n",
       "      <td>5600.92</td>\n",
       "      <td>9.77</td>\n",
       "      <td>3.0</td>\n",
       "      <td>POINT (3131799.136 1609425.596)</td>\n",
       "    </tr>\n",
       "    <tr>\n",
       "      <th>6</th>\n",
       "      <td>7</td>\n",
       "      <td>SDMH G40-3</td>\n",
       "      <td>ASBUILT</td>\n",
       "      <td>5.0</td>\n",
       "      <td>None</td>\n",
       "      <td>None</td>\n",
       "      <td>W</td>\n",
       "      <td>5648.68</td>\n",
       "      <td>5641.56</td>\n",
       "      <td>7.12</td>\n",
       "      <td>2.0</td>\n",
       "      <td>POINT (3130037.979 1608275.515)</td>\n",
       "    </tr>\n",
       "    <tr>\n",
       "      <th>7</th>\n",
       "      <td>8</td>\n",
       "      <td>SDMH G49-6</td>\n",
       "      <td>ASBUILT</td>\n",
       "      <td>5.0</td>\n",
       "      <td>None</td>\n",
       "      <td>None</td>\n",
       "      <td>N</td>\n",
       "      <td>5680.13</td>\n",
       "      <td>5672.13</td>\n",
       "      <td>8.00</td>\n",
       "      <td>2.0</td>\n",
       "      <td>POINT (3128138.876 1607408.414)</td>\n",
       "    </tr>\n",
       "    <tr>\n",
       "      <th>8</th>\n",
       "      <td>9</td>\n",
       "      <td>MH F13</td>\n",
       "      <td>DESIGN</td>\n",
       "      <td>6.0</td>\n",
       "      <td>None</td>\n",
       "      <td>None</td>\n",
       "      <td>NW</td>\n",
       "      <td>5707.87</td>\n",
       "      <td>5697.23</td>\n",
       "      <td>10.64</td>\n",
       "      <td>4.0</td>\n",
       "      <td>POINT (3128296.332 1605782.683)</td>\n",
       "    </tr>\n",
       "    <tr>\n",
       "      <th>9</th>\n",
       "      <td>10</td>\n",
       "      <td>SDMH G44-7.1</td>\n",
       "      <td>ASBUILT</td>\n",
       "      <td>5.0</td>\n",
       "      <td>None</td>\n",
       "      <td>None</td>\n",
       "      <td>SE</td>\n",
       "      <td>5654.55</td>\n",
       "      <td>5644.82</td>\n",
       "      <td>9.73</td>\n",
       "      <td>3.0</td>\n",
       "      <td>POINT (3129203.788 1608097.663)</td>\n",
       "    </tr>\n",
       "  </tbody>\n",
       "</table>\n",
       "</div>"
      ],
      "text/plain": [
       "   objectid            id   status  dia      type   box_size flow_dir  \\\n",
       "0         1     SDMH C.08  ASBUILT  4.0      None       None       SW   \n",
       "1         2      SDMH C45  ASBUILT  5.0      None       None        N   \n",
       "2         3    SDMH G44-1  ASBUILT  5.0      None       None       NW   \n",
       "3         4         MH A8   DESIGN  4.0  BOX BASE    86 x 86       NE   \n",
       "4         5         MH A2   DESIGN  4.0  BOX BASE  107 x 107       NE   \n",
       "5         6      SDMH B33  ASBUILT  5.0      None       None       NE   \n",
       "6         7    SDMH G40-3  ASBUILT  5.0      None       None        W   \n",
       "7         8    SDMH G49-6  ASBUILT  5.0      None       None        N   \n",
       "8         9        MH F13   DESIGN  6.0      None       None       NW   \n",
       "9        10  SDMH G44-7.1  ASBUILT  5.0      None       None       SE   \n",
       "\n",
       "   rim_elev  inv_elev  invert  connection                         geometry  \n",
       "0   5643.42   5629.46   13.96         2.0  POINT (3131894.760 1607146.735)  \n",
       "1   5621.11   5610.01   11.10         2.0  POINT (3130748.091 1609263.615)  \n",
       "2   5651.02   5640.99   10.03         3.0  POINT (3129356.405 1607942.718)  \n",
       "3   5642.91   5630.23   12.68         3.0  POINT (3121457.430 1601359.175)  \n",
       "4   5613.21   5596.76   16.45         2.0  POINT (3121168.810 1602034.181)  \n",
       "5   5610.69   5600.92    9.77         3.0  POINT (3131799.136 1609425.596)  \n",
       "6   5648.68   5641.56    7.12         2.0  POINT (3130037.979 1608275.515)  \n",
       "7   5680.13   5672.13    8.00         2.0  POINT (3128138.876 1607408.414)  \n",
       "8   5707.87   5697.23   10.64         4.0  POINT (3128296.332 1605782.683)  \n",
       "9   5654.55   5644.82    9.73         3.0  POINT (3129203.788 1608097.663)  "
      ]
     },
     "execution_count": 3,
     "metadata": {},
     "output_type": "execute_result"
    }
   ],
   "source": [
    "# examine first 10\n",
    "df_stormwater.head(10)"
   ]
  },
  {
   "cell_type": "code",
   "execution_count": 4,
   "metadata": {},
   "outputs": [
    {
     "name": "stdout",
     "output_type": "stream",
     "text": [
      "<class 'geopandas.geodataframe.GeoDataFrame'>\n",
      "RangeIndex: 387 entries, 0 to 386\n",
      "Data columns (total 12 columns):\n",
      " #   Column      Non-Null Count  Dtype   \n",
      "---  ------      --------------  -----   \n",
      " 0   objectid    387 non-null    int64   \n",
      " 1   id          350 non-null    object  \n",
      " 2   status      378 non-null    object  \n",
      " 3   dia         342 non-null    float64 \n",
      " 4   type        80 non-null     object  \n",
      " 5   box_size    78 non-null     object  \n",
      " 6   flow_dir    350 non-null    object  \n",
      " 7   rim_elev    350 non-null    float64 \n",
      " 8   inv_elev    348 non-null    float64 \n",
      " 9   invert      344 non-null    float64 \n",
      " 10  connection  350 non-null    float64 \n",
      " 11  geometry    387 non-null    geometry\n",
      "dtypes: float64(5), geometry(1), int64(1), object(5)\n",
      "memory usage: 36.4+ KB\n"
     ]
    }
   ],
   "source": [
    "df_stormwater.info()"
   ]
  },
  {
   "cell_type": "code",
   "execution_count": 5,
   "metadata": {},
   "outputs": [
    {
     "name": "stdout",
     "output_type": "stream",
     "text": [
      "None\n"
     ]
    }
   ],
   "source": [
    "# no CRS assigned to data on import, despite .prj file\n",
    "print(df_stormwater.crs)"
   ]
  },
  {
   "cell_type": "code",
   "execution_count": 6,
   "metadata": {},
   "outputs": [],
   "source": [
    "# open the .prj file and store reference to the WKT definition\n",
    "with open('./data/stormwater/stormwater.prj') as f:\n",
    "    wkt_def = f.read()"
   ]
  },
  {
   "cell_type": "code",
   "execution_count": 7,
   "metadata": {},
   "outputs": [
    {
     "data": {
      "text/plain": [
       "'PROJCS[\"SterlingRanchV12\",GEOGCS[\"GCS_NAD_1983_2011\",DATUM[\"D_NAD_1983_2011\",SPHEROID[\"GRS_1980\",6378137.0,298.257222101]],PRIMEM[\"Greenwich\",0.0],UNIT[\"Degree\",0.0174532925199433]],PROJECTION[\"Lambert_Conformal_Conic\"],PARAMETER[\"False_Easting\",2999959.5576162],PARAMETER[\"False_Northing\",999809.5290959987],PARAMETER[\"Central_Meridian\",-105.5],PARAMETER[\"Standard_Parallel_1\",38.45],PARAMETER[\"Standard_Parallel_2\",39.75],PARAMETER[\"Scale_Factor\",1.0003150391],PARAMETER[\"Latitude_Of_Origin\",37.8333333333],UNIT[\"Foot_US\",0.3048006096012192]]'"
      ]
     },
     "execution_count": 7,
     "metadata": {},
     "output_type": "execute_result"
    }
   ],
   "source": [
    "# definition now stored as string\n",
    "wkt_def"
   ]
  },
  {
   "cell_type": "code",
   "execution_count": 8,
   "metadata": {},
   "outputs": [
    {
     "name": "stdout",
     "output_type": "stream",
     "text": [
      "PROJCS[\"SterlingRanchV12\",GEOGCS[\"GCS_NAD_1983_2011\",DATUM[\"D_NAD_1983_2011\",SPHEROID[\"GRS_1980\",6378137.0,298.257222101]],PRIMEM[\"Greenwich\",0.0],UNIT[\"Degree\",0.0174532925199433]],PROJECTION[\"Lambert_Conformal_Conic\"],PARAMETER[\"False_Easting\",2999959.5576162],PARAMETER[\"False_Northing\",999809.5290959987],PARAMETER[\"Central_Meridian\",-105.5],PARAMETER[\"Standard_Parallel_1\",38.45],PARAMETER[\"Standard_Parallel_2\",39.75],PARAMETER[\"Scale_Factor\",1.0003150391],PARAMETER[\"Latitude_Of_Origin\",37.8333333333],UNIT[\"Foot_US\",0.3048006096012192]]\n"
     ]
    }
   ],
   "source": [
    "# first assign this definition to the dataset\n",
    "df_stormwater.crs = wkt_def\n",
    "print(df_stormwater.crs)"
   ]
  },
  {
   "cell_type": "code",
   "execution_count": 9,
   "metadata": {},
   "outputs": [],
   "source": [
    "# then use the original CRS def to convert to desired\n",
    "df_stormwater_wgs84 = df_stormwater.to_crs(\"EPSG:4326\")"
   ]
  },
  {
   "cell_type": "code",
   "execution_count": 10,
   "metadata": {},
   "outputs": [
    {
     "data": {
      "text/plain": [
       "<Geographic 2D CRS: EPSG:4326>\n",
       "Name: WGS 84\n",
       "Axis Info [ellipsoidal]:\n",
       "- Lat[north]: Geodetic latitude (degree)\n",
       "- Lon[east]: Geodetic longitude (degree)\n",
       "Area of Use:\n",
       "- name: World\n",
       "- bounds: (-180.0, -90.0, 180.0, 90.0)\n",
       "Datum: World Geodetic System 1984\n",
       "- Ellipsoid: WGS 84\n",
       "- Prime Meridian: Greenwich"
      ]
     },
     "execution_count": 10,
     "metadata": {},
     "output_type": "execute_result"
    }
   ],
   "source": [
    "# verify transformation\n",
    "df_stormwater_wgs84.crs"
   ]
  },
  {
   "cell_type": "code",
   "execution_count": 11,
   "metadata": {},
   "outputs": [
    {
     "data": {
      "text/plain": [
       "314    POINT (-105.07121 39.48297)\n",
       "218    POINT (-105.06916 39.48347)\n",
       "211    POINT (-105.03209 39.49942)\n",
       "271    POINT (-105.06927 39.47922)\n",
       "153    POINT (-105.03659 39.50288)\n",
       "17     POINT (-105.03346 39.49823)\n",
       "357    POINT (-105.03204 39.50300)\n",
       "190    POINT (-105.03569 39.49978)\n",
       "179    POINT (-105.06979 39.47895)\n",
       "144    POINT (-105.07218 39.48525)\n",
       "Name: geometry, dtype: geometry"
      ]
     },
     "execution_count": 11,
     "metadata": {},
     "output_type": "execute_result"
    }
   ],
   "source": [
    "# verify geoms are now in lon/lat\n",
    "df_stormwater_wgs84['geometry'].sample(10)"
   ]
  },
  {
   "cell_type": "code",
   "execution_count": 12,
   "metadata": {},
   "outputs": [],
   "source": [
    "# write data to GeoJSON\n",
    "df_stormwater_wgs84.to_file('./data/stormwater.json', driver='GeoJSON')"
   ]
  },
  {
   "cell_type": "code",
   "execution_count": 13,
   "metadata": {},
   "outputs": [],
   "source": [
    "# write data to new Shapefile (within its own directory)\n",
    "import os\n",
    "os.mkdir('./data/stormwater_wgs84')\n",
    "df_stormwater_wgs84.to_file('./data/stormwater_wgs84/stormwater_wgs84.shp')"
   ]
  }
 ],
 "metadata": {
  "kernelspec": {
   "display_name": "Python 3",
   "language": "python",
   "name": "python3"
  },
  "language_info": {
   "codemirror_mode": {
    "name": "ipython",
    "version": 3
   },
   "file_extension": ".py",
   "mimetype": "text/x-python",
   "name": "python",
   "nbconvert_exporter": "python",
   "pygments_lexer": "ipython3",
   "version": "3.7.8"
  }
 },
 "nbformat": 4,
 "nbformat_minor": 4
}
